{
 "cells": [
  {
   "cell_type": "code",
   "execution_count": 13,
   "metadata": {
    "ExecuteTime": {
     "end_time": "2020-08-05T14:25:57.500293Z",
     "start_time": "2020-08-05T14:25:57.484668Z"
    }
   },
   "outputs": [],
   "source": [
    "from scipy.fft import fft, ifft\n",
    "\n",
    "class MP:\n",
    "    def __init__(self):\n",
    "        self.npre  = 50\n",
    "        self.npost = 50\n",
    "        self.exp = 10000\n",
    "        #self.npre  = 3\n",
    "        #self.npost = 3\n",
    "        #self.exp = 10\n",
    "        self.n = self.npre + self.npost\n",
    "        self.digits = np.zeros(self.n)\n",
    "        \n",
    "    def evaluate(self):\n",
    "        return np.sum([self.digits[i] * self.exp**i for i in range(-self.npre, self.npost)])\n",
    "    \n",
    "    def iadd(self, friend):\n",
    "        self.digits += friend.digits\n",
    "        return self\n",
    "    \n",
    "    def prod(self, friend):\n",
    "        s = self\n",
    "        f = friend\n",
    "        p = MP()\n",
    "        for i in range(-s.npre, s.npost):\n",
    "            for j in range(-f.npre, f.npost):\n",
    "                if i+j < -p.npre or i+j >= p.npost:\n",
    "                    continue\n",
    "                p.digits[i+j] += s.digits[i]*f.digits[j]\n",
    "        return p\n",
    "    \n",
    "    def prod_fft(self, friend):\n",
    "        s = self\n",
    "        f = friend\n",
    "        p = MP()\n",
    "        sdf = fft(s.digits)\n",
    "        fdf = fft(f.digits)\n",
    "        pdf = sdf*fdf\n",
    "        p.digits = np.real(ifft(pdf))\n",
    "        for i in range(p.n):\n",
    "            if abs(p.digits[i]) < 1e-8:\n",
    "                p.digits[i] = 0\n",
    "        return p\n",
    "    \n",
    "    def __repr__(self):\n",
    "        return str(self.evaluate())"
   ]
  },
  {
   "cell_type": "code",
   "execution_count": 14,
   "metadata": {
    "ExecuteTime": {
     "end_time": "2020-08-05T14:25:57.816711Z",
     "start_time": "2020-08-05T14:25:57.801079Z"
    }
   },
   "outputs": [],
   "source": [
    "a = MP()\n",
    "b = MP()\n",
    "\n",
    "a.digits[1] = 1\n",
    "a.digits[0] = 9\n",
    "a.digits[-1] = 3\n",
    "\n",
    "b.digits[1] = 1\n",
    "b.digits[0] = 1\n",
    "b.digits[-1] = 6"
   ]
  },
  {
   "cell_type": "code",
   "execution_count": 18,
   "metadata": {
    "ExecuteTime": {
     "end_time": "2020-08-05T14:26:24.380998Z",
     "start_time": "2020-08-05T14:26:24.365380Z"
    }
   },
   "outputs": [
    {
     "name": "stdout",
     "output_type": "stream",
     "text": [
      "100100018.00570019\n"
     ]
    }
   ],
   "source": [
    "#stimmt die funktion prod_fft? liefert sie ein kluges ergebnis?\n",
    "c = a.prod_fft(b)\n",
    "c = a.prod(b)\n",
    "print(c)"
   ]
  },
  {
   "cell_type": "code",
   "execution_count": null,
   "metadata": {},
   "outputs": [],
   "source": [
    "%timeit c = a.prod_fft(b)\n",
    "#c.evaluate()"
   ]
  },
  {
   "cell_type": "code",
   "execution_count": null,
   "metadata": {},
   "outputs": [],
   "source": [
    "\n",
    "x = mpmath.mpf('2.0')\n",
    "y = mpmath.mpf('1.0')\n",
    "\n",
    "%timeit z = x*y"
   ]
  }
 ],
 "metadata": {
  "kernelspec": {
   "display_name": "Python 3",
   "language": "python",
   "name": "python3"
  },
  "language_info": {
   "codemirror_mode": {
    "name": "ipython",
    "version": 3
   },
   "file_extension": ".py",
   "mimetype": "text/x-python",
   "name": "python",
   "nbconvert_exporter": "python",
   "pygments_lexer": "ipython3",
   "version": "3.7.7"
  },
  "varInspector": {
   "cols": {
    "lenName": 16,
    "lenType": 16,
    "lenVar": 40
   },
   "kernels_config": {
    "python": {
     "delete_cmd_postfix": "",
     "delete_cmd_prefix": "del ",
     "library": "var_list.py",
     "varRefreshCmd": "print(var_dic_list())"
    },
    "r": {
     "delete_cmd_postfix": ") ",
     "delete_cmd_prefix": "rm(",
     "library": "var_list.r",
     "varRefreshCmd": "cat(var_dic_list()) "
    }
   },
   "types_to_exclude": [
    "module",
    "function",
    "builtin_function_or_method",
    "instance",
    "_Feature"
   ],
   "window_display": false
  }
 },
 "nbformat": 4,
 "nbformat_minor": 2
}
