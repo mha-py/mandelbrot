{
 "cells": [
  {
   "cell_type": "code",
   "execution_count": 2,
   "metadata": {
    "ExecuteTime": {
     "end_time": "2020-06-25T11:14:14.746983Z",
     "start_time": "2020-06-25T11:14:14.295969Z"
    }
   },
   "outputs": [
    {
     "data": {
      "text/plain": [
       ":AdjointLayout\n",
       "   :DynamicMap   []\n",
       "      :Image   [x,y]   (z)\n",
       "   :DynamicMap   []\n",
       "      :Histogram   [z]   (z_frequency)"
      ]
     },
     "metadata": {},
     "output_type": "display_data"
    }
   ],
   "source": [
    "\"\"\"\n",
    "Example app demonstrating how to use the HoloViews API to generate\n",
    "a bokeh app with complex interactivity. Uses a RangeXY stream to allow\n",
    "interactive exploration of the mandelbrot set.\n",
    "\"\"\"\n",
    "\n",
    "import numpy as np\n",
    "import holoviews as hv\n",
    "\n",
    "from holoviews import opts\n",
    "from holoviews.streams import RangeXY\n",
    "from numba import jit\n",
    "\n",
    "from IPython.display import display\n",
    "\n",
    "renderer = hv.renderer('bokeh')\n",
    "\n",
    "@jit\n",
    "def mandel(x, y, max_iters):\n",
    "    \"\"\"\n",
    "    Given the real and imaginary parts of a complex number,\n",
    "    determine if it is a candidate for membership in the Mandelbrot\n",
    "    set given a fixed number of iterations.\n",
    "    \"\"\"\n",
    "    i = 0\n",
    "    c = complex(x,y)\n",
    "    z = 0.0j\n",
    "    for i in range(max_iters):\n",
    "        z = z*z + c\n",
    "        if (z.real*z.real + z.imag*z.imag) >= 4:\n",
    "            return i\n",
    "\n",
    "    return 255\n",
    "\n",
    "@jit\n",
    "def create_fractal(min_x, max_x, min_y, max_y, image, iters):\n",
    "    height = image.shape[0]\n",
    "    width = image.shape[1]\n",
    "\n",
    "    pixel_size_x = (max_x - min_x) / width\n",
    "    pixel_size_y = (max_y - min_y) / height\n",
    "    for x in range(width):\n",
    "        real = min_x + x * pixel_size_x\n",
    "        for y in range(height):\n",
    "            imag = min_y + y * pixel_size_y\n",
    "            color = mandel(real, imag, iters)\n",
    "            image[y, x] = color\n",
    "\n",
    "    return image\n",
    "\n",
    "def get_fractal(x_range, y_range):\n",
    "    (x0, x1), (y0, y1) = x_range, y_range\n",
    "    image = np.zeros((600, 600), dtype=np.uint8)\n",
    "    return hv.Image(create_fractal(x0, x1, -y1, -y0, image, 200),\n",
    "                    bounds=(x0, y0, x1, y1))\n",
    "\n",
    "# Define stream linked to axis XY-range\n",
    "range_stream = RangeXY(x_range=(-1., 1.), y_range=(-1., 1.))\n",
    "\n",
    "# Create DynamicMap to compute fractal per zoom range and\n",
    "# adjoin a logarithmic histogram\n",
    "dmap = hv.DynamicMap(get_fractal, label='Manderbrot Explorer',\n",
    "                     streams=[range_stream]).hist(log=True)\n",
    "\n",
    "# Apply options\n",
    "dmap.opts(\n",
    "    #opts.Histogram(framewise=True, logy=True, width=200),\n",
    "    opts.Image(cmap='fire', logz=True, height=600, width=600,\n",
    "               xaxis=None, yaxis=None))\n",
    "\n",
    "doc = renderer.server_doc(dmap)\n",
    "doc.title = 'Mandelbrot Explorer'\n",
    "\n",
    "display(dmap)"
   ]
  },
  {
   "cell_type": "code",
   "execution_count": null,
   "metadata": {},
   "outputs": [],
   "source": []
  }
 ],
 "metadata": {
  "kernelspec": {
   "display_name": "Python 3",
   "language": "python",
   "name": "python3"
  },
  "language_info": {
   "codemirror_mode": {
    "name": "ipython",
    "version": 3
   },
   "file_extension": ".py",
   "mimetype": "text/x-python",
   "name": "python",
   "nbconvert_exporter": "python",
   "pygments_lexer": "ipython3",
   "version": "3.6.6"
  },
  "varInspector": {
   "cols": {
    "lenName": 16,
    "lenType": 16,
    "lenVar": 40
   },
   "kernels_config": {
    "python": {
     "delete_cmd_postfix": "",
     "delete_cmd_prefix": "del ",
     "library": "var_list.py",
     "varRefreshCmd": "print(var_dic_list())"
    },
    "r": {
     "delete_cmd_postfix": ") ",
     "delete_cmd_prefix": "rm(",
     "library": "var_list.r",
     "varRefreshCmd": "cat(var_dic_list()) "
    }
   },
   "types_to_exclude": [
    "module",
    "function",
    "builtin_function_or_method",
    "instance",
    "_Feature"
   ],
   "window_display": false
  }
 },
 "nbformat": 4,
 "nbformat_minor": 2
}
